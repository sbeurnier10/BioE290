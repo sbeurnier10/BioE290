{
 "cells": [
  {
   "cell_type": "markdown",
   "metadata": {},
   "source": [
    "# Q1: Baye's Theorem"
   ]
  },
  {
   "cell_type": "markdown",
   "metadata": {},
   "source": [
    "## Part a) Define the following quantities: P[-|M]; P[+|not M]; P[not M]."
   ]
  },
  {
   "cell_type": "markdown",
   "metadata": {},
   "source": [
    "P[-|M] = 1 - P[not -|M] = 1 - P[+|M] = 1 - 0.95 = 0.05  \n",
    "P[+|not M] = 1 - P[not +|not M] = 1 - P[-|not M] = 1 - 0.95 = 0.05  \n",
    "P[not M] = 1 - P[M] = 1 - 0.01 = 0.99"
   ]
  },
  {
   "cell_type": "markdown",
   "metadata": {},
   "source": [
    "## Part b) You have had a chemical test and have tested positive; should you be alarmed?"
   ]
  },
  {
   "cell_type": "markdown",
   "metadata": {},
   "source": [
    "P[M|+] = P[M]*P[+|M]/P[+] = 0.01*0.95/P[+]  \n",
    "P[+] = P[M]*P[+|M] + P[not M]*P[+|not M] = 0.01*0.95+0.99*0.05 = 0.0095+0.0495 = 0.059  \n",
    "P[M|+] = 0.01*0.95/0.059 = 0.16  \n",
    "There is only 16% chance you actually have the marker if you test positive, which wouldn't be very alarming. This seems to be due to the low chance of actually having the marker (1%) which is present in the numerator"
   ]
  },
  {
   "cell_type": "markdown",
   "metadata": {},
   "source": [
    "## Part c) Suppose that frequency of marker was higher by a factor of 10, i.e. P[M] = 0.10."
   ]
  },
  {
   "cell_type": "markdown",
   "metadata": {},
   "source": [
    "P[M|+] = P[M]*P[+|M]/P[+] = 0.1*0.95/P[+]  \n",
    "P[+] = P[M]*P[+|M] + P[not M]*P[+|not M] = 0.1*0.95+0.90*0.05 = 0.14 \n",
    "P[M|+] = 0.1*0.95/0.14 = 0.68\n",
    "There is a 68% chance of having the marker now if someone has tested positive, which would be alarming"
   ]
  },
  {
   "cell_type": "markdown",
   "metadata": {},
   "source": [
    "#  Q2: Gaussian Naive Bayes"
   ]
  },
  {
   "cell_type": "code",
   "execution_count": 1,
   "metadata": {},
   "outputs": [
    {
     "data": {
      "text/html": [
       "<div>\n",
       "<style scoped>\n",
       "    .dataframe tbody tr th:only-of-type {\n",
       "        vertical-align: middle;\n",
       "    }\n",
       "\n",
       "    .dataframe tbody tr th {\n",
       "        vertical-align: top;\n",
       "    }\n",
       "\n",
       "    .dataframe thead th {\n",
       "        text-align: right;\n",
       "    }\n",
       "</style>\n",
       "<table border=\"1\" class=\"dataframe\">\n",
       "  <thead>\n",
       "    <tr style=\"text-align: right;\">\n",
       "      <th></th>\n",
       "      <th>Alcohol %</th>\n",
       "      <th>Malic Acid</th>\n",
       "      <th>Ash</th>\n",
       "      <th>Alkalinity</th>\n",
       "      <th>Mg</th>\n",
       "      <th>Phenols</th>\n",
       "      <th>Flavanoids</th>\n",
       "      <th>Phenols.1</th>\n",
       "      <th>Proantho-cyanins</th>\n",
       "      <th>Color intensity</th>\n",
       "      <th>Hue</th>\n",
       "      <th>OD280 315</th>\n",
       "      <th>Proline</th>\n",
       "      <th>Start assignment</th>\n",
       "      <th>ranking</th>\n",
       "    </tr>\n",
       "  </thead>\n",
       "  <tbody>\n",
       "    <tr>\n",
       "      <th>0</th>\n",
       "      <td>14.23</td>\n",
       "      <td>1.71</td>\n",
       "      <td>2.43</td>\n",
       "      <td>15.6</td>\n",
       "      <td>127</td>\n",
       "      <td>2.80</td>\n",
       "      <td>3.06</td>\n",
       "      <td>0.28</td>\n",
       "      <td>2.29</td>\n",
       "      <td>5.64</td>\n",
       "      <td>1.04</td>\n",
       "      <td>3.92</td>\n",
       "      <td>1065</td>\n",
       "      <td>1</td>\n",
       "      <td>1</td>\n",
       "    </tr>\n",
       "    <tr>\n",
       "      <th>1</th>\n",
       "      <td>13.24</td>\n",
       "      <td>2.59</td>\n",
       "      <td>2.87</td>\n",
       "      <td>21.0</td>\n",
       "      <td>118</td>\n",
       "      <td>2.80</td>\n",
       "      <td>2.69</td>\n",
       "      <td>0.39</td>\n",
       "      <td>1.82</td>\n",
       "      <td>4.32</td>\n",
       "      <td>1.04</td>\n",
       "      <td>2.93</td>\n",
       "      <td>735</td>\n",
       "      <td>1</td>\n",
       "      <td>1</td>\n",
       "    </tr>\n",
       "    <tr>\n",
       "      <th>2</th>\n",
       "      <td>14.83</td>\n",
       "      <td>1.64</td>\n",
       "      <td>2.17</td>\n",
       "      <td>14.0</td>\n",
       "      <td>97</td>\n",
       "      <td>2.80</td>\n",
       "      <td>2.98</td>\n",
       "      <td>0.29</td>\n",
       "      <td>1.98</td>\n",
       "      <td>5.20</td>\n",
       "      <td>1.08</td>\n",
       "      <td>2.85</td>\n",
       "      <td>1045</td>\n",
       "      <td>1</td>\n",
       "      <td>1</td>\n",
       "    </tr>\n",
       "    <tr>\n",
       "      <th>3</th>\n",
       "      <td>14.12</td>\n",
       "      <td>1.48</td>\n",
       "      <td>2.32</td>\n",
       "      <td>16.8</td>\n",
       "      <td>95</td>\n",
       "      <td>2.20</td>\n",
       "      <td>2.43</td>\n",
       "      <td>0.26</td>\n",
       "      <td>1.57</td>\n",
       "      <td>5.00</td>\n",
       "      <td>1.17</td>\n",
       "      <td>2.82</td>\n",
       "      <td>1280</td>\n",
       "      <td>1</td>\n",
       "      <td>1</td>\n",
       "    </tr>\n",
       "    <tr>\n",
       "      <th>4</th>\n",
       "      <td>13.75</td>\n",
       "      <td>1.73</td>\n",
       "      <td>2.41</td>\n",
       "      <td>16.0</td>\n",
       "      <td>89</td>\n",
       "      <td>2.60</td>\n",
       "      <td>2.76</td>\n",
       "      <td>0.29</td>\n",
       "      <td>1.81</td>\n",
       "      <td>5.60</td>\n",
       "      <td>1.15</td>\n",
       "      <td>2.90</td>\n",
       "      <td>1320</td>\n",
       "      <td>1</td>\n",
       "      <td>1</td>\n",
       "    </tr>\n",
       "    <tr>\n",
       "      <th>...</th>\n",
       "      <td>...</td>\n",
       "      <td>...</td>\n",
       "      <td>...</td>\n",
       "      <td>...</td>\n",
       "      <td>...</td>\n",
       "      <td>...</td>\n",
       "      <td>...</td>\n",
       "      <td>...</td>\n",
       "      <td>...</td>\n",
       "      <td>...</td>\n",
       "      <td>...</td>\n",
       "      <td>...</td>\n",
       "      <td>...</td>\n",
       "      <td>...</td>\n",
       "      <td>...</td>\n",
       "    </tr>\n",
       "    <tr>\n",
       "      <th>173</th>\n",
       "      <td>13.40</td>\n",
       "      <td>4.60</td>\n",
       "      <td>2.86</td>\n",
       "      <td>25.0</td>\n",
       "      <td>112</td>\n",
       "      <td>1.98</td>\n",
       "      <td>0.96</td>\n",
       "      <td>0.27</td>\n",
       "      <td>1.11</td>\n",
       "      <td>8.50</td>\n",
       "      <td>0.67</td>\n",
       "      <td>1.92</td>\n",
       "      <td>630</td>\n",
       "      <td>3</td>\n",
       "      <td>3</td>\n",
       "    </tr>\n",
       "    <tr>\n",
       "      <th>174</th>\n",
       "      <td>13.27</td>\n",
       "      <td>4.28</td>\n",
       "      <td>2.26</td>\n",
       "      <td>20.0</td>\n",
       "      <td>120</td>\n",
       "      <td>1.59</td>\n",
       "      <td>0.69</td>\n",
       "      <td>0.43</td>\n",
       "      <td>1.35</td>\n",
       "      <td>10.20</td>\n",
       "      <td>0.59</td>\n",
       "      <td>1.56</td>\n",
       "      <td>835</td>\n",
       "      <td>3</td>\n",
       "      <td>3</td>\n",
       "    </tr>\n",
       "    <tr>\n",
       "      <th>175</th>\n",
       "      <td>13.17</td>\n",
       "      <td>2.59</td>\n",
       "      <td>2.37</td>\n",
       "      <td>20.0</td>\n",
       "      <td>120</td>\n",
       "      <td>1.65</td>\n",
       "      <td>0.68</td>\n",
       "      <td>0.53</td>\n",
       "      <td>1.46</td>\n",
       "      <td>9.30</td>\n",
       "      <td>0.60</td>\n",
       "      <td>1.62</td>\n",
       "      <td>840</td>\n",
       "      <td>3</td>\n",
       "      <td>3</td>\n",
       "    </tr>\n",
       "    <tr>\n",
       "      <th>176</th>\n",
       "      <td>14.13</td>\n",
       "      <td>4.10</td>\n",
       "      <td>2.74</td>\n",
       "      <td>24.5</td>\n",
       "      <td>96</td>\n",
       "      <td>2.05</td>\n",
       "      <td>0.76</td>\n",
       "      <td>0.56</td>\n",
       "      <td>1.35</td>\n",
       "      <td>9.20</td>\n",
       "      <td>0.61</td>\n",
       "      <td>1.60</td>\n",
       "      <td>560</td>\n",
       "      <td>3</td>\n",
       "      <td>3</td>\n",
       "    </tr>\n",
       "    <tr>\n",
       "      <th>177</th>\n",
       "      <td>12.25</td>\n",
       "      <td>1.73</td>\n",
       "      <td>2.12</td>\n",
       "      <td>19.0</td>\n",
       "      <td>80</td>\n",
       "      <td>1.65</td>\n",
       "      <td>2.03</td>\n",
       "      <td>0.37</td>\n",
       "      <td>1.63</td>\n",
       "      <td>3.40</td>\n",
       "      <td>1.00</td>\n",
       "      <td>3.17</td>\n",
       "      <td>510</td>\n",
       "      <td>3</td>\n",
       "      <td>2</td>\n",
       "    </tr>\n",
       "  </tbody>\n",
       "</table>\n",
       "<p>178 rows × 15 columns</p>\n",
       "</div>"
      ],
      "text/plain": [
       "     Alcohol %  Malic Acid   Ash  Alkalinity   Mg  Phenols  Flavanoids  \\\n",
       "0        14.23        1.71  2.43        15.6  127     2.80        3.06   \n",
       "1        13.24        2.59  2.87        21.0  118     2.80        2.69   \n",
       "2        14.83        1.64  2.17        14.0   97     2.80        2.98   \n",
       "3        14.12        1.48  2.32        16.8   95     2.20        2.43   \n",
       "4        13.75        1.73  2.41        16.0   89     2.60        2.76   \n",
       "..         ...         ...   ...         ...  ...      ...         ...   \n",
       "173      13.40        4.60  2.86        25.0  112     1.98        0.96   \n",
       "174      13.27        4.28  2.26        20.0  120     1.59        0.69   \n",
       "175      13.17        2.59  2.37        20.0  120     1.65        0.68   \n",
       "176      14.13        4.10  2.74        24.5   96     2.05        0.76   \n",
       "177      12.25        1.73  2.12        19.0   80     1.65        2.03   \n",
       "\n",
       "     Phenols.1  Proantho-cyanins  Color intensity   Hue  OD280 315  Proline  \\\n",
       "0         0.28              2.29             5.64  1.04       3.92     1065   \n",
       "1         0.39              1.82             4.32  1.04       2.93      735   \n",
       "2         0.29              1.98             5.20  1.08       2.85     1045   \n",
       "3         0.26              1.57             5.00  1.17       2.82     1280   \n",
       "4         0.29              1.81             5.60  1.15       2.90     1320   \n",
       "..         ...               ...              ...   ...        ...      ...   \n",
       "173       0.27              1.11             8.50  0.67       1.92      630   \n",
       "174       0.43              1.35            10.20  0.59       1.56      835   \n",
       "175       0.53              1.46             9.30  0.60       1.62      840   \n",
       "176       0.56              1.35             9.20  0.61       1.60      560   \n",
       "177       0.37              1.63             3.40  1.00       3.17      510   \n",
       "\n",
       "     Start assignment  ranking  \n",
       "0                   1        1  \n",
       "1                   1        1  \n",
       "2                   1        1  \n",
       "3                   1        1  \n",
       "4                   1        1  \n",
       "..                ...      ...  \n",
       "173                 3        3  \n",
       "174                 3        3  \n",
       "175                 3        3  \n",
       "176                 3        3  \n",
       "177                 3        2  \n",
       "\n",
       "[178 rows x 15 columns]"
      ]
     },
     "execution_count": 1,
     "metadata": {},
     "output_type": "execute_result"
    }
   ],
   "source": [
    "import pandas as pd\n",
    "import numpy as np\n",
    "import sklearn.model_selection as skl_model\n",
    "import matplotlib.pyplot as plt\n",
    "\n",
    "df=pd.read_csv('~/Downloads/wines.csv')\n",
    "df"
   ]
  },
  {
   "cell_type": "markdown",
   "metadata": {},
   "source": [
    "### the Naive Bayes Classifier"
   ]
  },
  {
   "cell_type": "code",
   "execution_count": 2,
   "metadata": {},
   "outputs": [],
   "source": [
    "#normalize data\n",
    "feats=df.drop(['Start assignment','ranking'],axis=1)\n",
    "avg=np.average(feats,axis=0)\n",
    "std=np.std(feats,axis=0)\n",
    "feats=feats-avg\n",
    "feats=feats/std\n",
    "classes = df[\"ranking\"]"
   ]
  },
  {
   "cell_type": "code",
   "execution_count": 3,
   "metadata": {
    "collapsed": false,
    "jupyter": {
     "outputs_hidden": false
    }
   },
   "outputs": [],
   "source": [
    "class NaiveBayesClassifier():\n",
    "    def __init__(self):\n",
    "        self.type_indices={}    # store the indices of wines that belong to each cultivar as a boolean array of length 178\n",
    "        self.type_stats={}      # store the mean and std of each cultivar\n",
    "        self.ndata = 0\n",
    "        self.trained=False\n",
    "    \n",
    "    @staticmethod\n",
    "    def gaussian(x,mean,std):\n",
    "        return 1/(np.sqrt(2*np.pi)*std)*np.exp(-(x-mean)**2/(2*std**2))\n",
    "    \n",
    "    @staticmethod\n",
    "    def calculate_statistics(x_values):\n",
    "        # Returns a list with length of input features. Each element is a tuple, with the input feature's average and standard deviation\n",
    "        n_feats=x_values.shape[1]\n",
    "        return [(np.average(x_values[:,n]),np.std(x_values[:,n])) for n in range(n_feats)]\n",
    "    \n",
    "    @staticmethod\n",
    "    def calculate_prob(x_input,stats): \n",
    "        \"\"\"Calculate the probability that the input features belong to a specific class(P(X|C)), defined by the statistics of features in that class\n",
    "        x_input: np.array shape(nfeatures)\n",
    "        stats: list of tuple [(mean1,std1),(means2,std2),...]\n",
    "        \"\"\" \n",
    "        init_prob=1\n",
    "        \n",
    "        # P(X|C) = P(x1|C)*P(x2|C)*... where each of them is a gaussian\n",
    "        # iterate over each features \n",
    "        for x_value,single_stat in zip(x_input,stats):\n",
    "            init_prob *= NaiveBayesClassifier.gaussian(x_value,single_stat[0],single_stat[1]) ###later verify correct ordering of mean and std\n",
    "        return init_prob\n",
    "    \n",
    "    def fit(self,xs,ys):\n",
    "        # Train the classifier by calculating the statistics of different features in each class\n",
    "        self.ndata = len(ys)\n",
    "        for y in set(ys):\n",
    "            type_filter= (ys==y)\n",
    "            self.type_indices[y]=type_filter\n",
    "            self.type_stats[y]=NaiveBayesClassifier.calculate_statistics(xs[type_filter])\n",
    "        self.trained=True\n",
    "            \n",
    "    def predict(self,xs):\n",
    "        # Do the prediction by outputing the class that has highest probability\n",
    "        if len(xs.shape)>1:\n",
    "            print(\"Only accepts one sample at a time!\")\n",
    "        if self.trained:\n",
    "            guess=None\n",
    "            max_prob=0\n",
    "            # P(C|X) = P(X|C)*P(C) / sum_i(P(X|C_i)*P(C_i)) (deniminator for normalization only, can be ignored)\n",
    "            for y_type in self.type_stats:\n",
    "                ###DETERMINE WHETHER xs is one sample or several,,,xs should prolly be shape (13,1)\n",
    "                prob = self.calculate_prob(xs,self.type_stats[y_type])*self.type_indices[y_type].sum()/178 ###make sure that P(C) is correct with accessing type_indices\n",
    "                if prob>max_prob:\n",
    "                    max_prob=prob\n",
    "                    guess=y_type\n",
    "            return guess\n",
    "        else:\n",
    "            print(\"Please train the classifier first!\")"
   ]
  },
  {
   "cell_type": "markdown",
   "metadata": {},
   "source": [
    "A performance tester:"
   ]
  },
  {
   "cell_type": "code",
   "execution_count": 4,
   "metadata": {},
   "outputs": [],
   "source": [
    "#turn df to numpy arrays\n",
    "feats = feats.values\n",
    "classes = classes.values\n",
    "classifier = NaiveBayesClassifier()"
   ]
  },
  {
   "cell_type": "markdown",
   "metadata": {},
   "source": [
    "### Part a) the probability distribution function(PDF) is a gaussian. Why do we choose this functional form?"
   ]
  },
  {
   "cell_type": "code",
   "execution_count": 5,
   "metadata": {},
   "outputs": [
    {
     "data": {
      "text/plain": [
       "0.1881115268655778"
      ]
     },
     "execution_count": 5,
     "metadata": {},
     "output_type": "execute_result"
    }
   ],
   "source": [
    "#calculate alcohol % mean and std for cultivar 1 from normalized data\n",
    "type_stats = classifier.calculate_statistics(feats[classes==1])\n",
    "alc_stats = type_stats[0]\n",
    "\n",
    "#normalize given alochol % of 13 to fit data\n",
    "alc_norm = (13-avg[0])/std[0]\n",
    "\n",
    "#calculate prob\n",
    "prob = classifier.gaussian(alc_norm,alc_stats[0],alc_stats[1])\n",
    "prob"
   ]
  },
  {
   "cell_type": "markdown",
   "metadata": {},
   "source": [
    "#### Gaussian PDF works well with continuous data, as is the case for the continuous values of the 13 features in our datasets. We also only need to determine mean and std of features in our data, which is easy to do, to use it. The probability for an alcohol % of 13 is about 19%"
   ]
  },
  {
   "cell_type": "markdown",
   "metadata": {},
   "source": [
    "## Part b) Take the provided code for NaiveBayesClassifier, use your normalized chemical descriptor data from  HW#2,  and  divide  your  data  into  3-fold  training  and  testing  groups,"
   ]
  },
  {
   "cell_type": "code",
   "execution_count": 6,
   "metadata": {},
   "outputs": [
    {
     "name": "stdout",
     "output_type": "stream",
     "text": [
      "0.9666666666666667\n",
      "0.9830508474576272\n",
      "0.9322033898305084\n"
     ]
    }
   ],
   "source": [
    "kf = skl_model.KFold(n_splits=3,shuffle=True)\n",
    "for train_index,test_index in kf.split(feats):\n",
    "    #print('Train: ',train_index, ' Test: ', test_index)\n",
    "    x_train,x_test = feats[train_index],feats[test_index]\n",
    "    y_train,y_test = classes[train_index],classes[test_index]\n",
    "    classifier = NaiveBayesClassifier()\n",
    "    score = 0\n",
    "    classifier.fit(x_train,y_train)\n",
    "    for i in range(len(y_test)):\n",
    "        if classifier.predict(x_test[i]) == y_test[i]:\n",
    "            score += 1\n",
    "    print(score/len(y_test))\n"
   ]
  },
  {
   "cell_type": "markdown",
   "metadata": {},
   "source": [
    "### Using 3-fold validation, we reach accuracy score consistently in the range of 95-98%, which is much better than previous methods that yielded accuracy scores far below 80% for the wine dataset"
   ]
  },
  {
   "cell_type": "code",
   "execution_count": 7,
   "metadata": {},
   "outputs": [
    {
     "data": {
      "text/plain": [
       "0.9662921348314607"
      ]
     },
     "execution_count": 7,
     "metadata": {},
     "output_type": "execute_result"
    }
   ],
   "source": [
    "def calculate_accuracy(model,xs,ys):\n",
    "    y_pred=np.zeros_like(ys)\n",
    "    for idx,x in enumerate(xs):\n",
    "        y_pred[idx]=model.predict(x)\n",
    "    return np.sum(ys==y_pred)/len(ys)\n",
    "\n",
    "calculate_accuracy(classifier,feats,classes)\n",
    "\n"
   ]
  },
  {
   "cell_type": "markdown",
   "metadata": {},
   "source": [
    "# Q3: Softmax and Cross Entropy Loss."
   ]
  },
  {
   "cell_type": "markdown",
   "metadata": {},
   "source": [
    "Hint: cross entropy loss of pytorch (https://pytorch.org/docs/stable/generated/torch.nn.CrossEntropyLoss.html) works by taking in y_hat(your model prediction) as a tensor of size (Batchsize, number of class) and y(reference values) as a tensor of size(Batchsize,). You can think of each element of the y_hat tensor(X_ij) as the probability that the element i belong to class j. And each element of y should be a int/torch.long that is a number between \\[0,number_of_class-1]"
   ]
  },
  {
   "cell_type": "markdown",
   "metadata": {},
   "source": [
    "### Part a) Pass the data through the network once without backpropagation and print out the output. "
   ]
  },
  {
   "cell_type": "code",
   "execution_count": 8,
   "metadata": {},
   "outputs": [],
   "source": [
    "from torch import nn\n",
    "import torch"
   ]
  },
  {
   "cell_type": "code",
   "execution_count": 9,
   "metadata": {},
   "outputs": [],
   "source": [
    "#convert numpy data to tensors\n",
    "feats_tensor = torch.tensor(feats,dtype=torch.float)\n",
    "classes_tensor = torch.tensor(classes-1,dtype=torch.long)"
   ]
  },
  {
   "cell_type": "code",
   "execution_count": 10,
   "metadata": {},
   "outputs": [
    {
     "name": "stdout",
     "output_type": "stream",
     "text": [
      "MLP(\n",
      "  (layers): Sequential(\n",
      "    (0): Linear(in_features=13, out_features=3, bias=True)\n",
      "    (1): Softmax(dim=1)\n",
      "  )\n",
      ")\n"
     ]
    }
   ],
   "source": [
    "#construct PyTorch model\n",
    "class MLP(nn.Module):\n",
    "    def __init__(self):\n",
    "        super(MLP,self).__init__()\n",
    "        self.layers = nn.Sequential(\n",
    "        nn.Linear(13,3),\n",
    "        nn.Softmax(dim=1) \n",
    "        )\n",
    "        \n",
    "    def forward(self,x):\n",
    "        return self.layers(x)\n",
    "\n",
    "model1 = MLP()\n",
    "print(model1)\n"
   ]
  },
  {
   "cell_type": "code",
   "execution_count": 11,
   "metadata": {},
   "outputs": [
    {
     "name": "stdout",
     "output_type": "stream",
     "text": [
      "Output:  tensor([[0.3383, 0.4607, 0.2010],\n",
      "        [0.3362, 0.2814, 0.3824],\n",
      "        [0.3633, 0.4356, 0.2011],\n",
      "        [0.3085, 0.4470, 0.2444],\n",
      "        [0.3020, 0.3572, 0.3408],\n",
      "        [0.3894, 0.3569, 0.2537],\n",
      "        [0.3197, 0.4616, 0.2187],\n",
      "        [0.2432, 0.3217, 0.4350],\n",
      "        [0.2917, 0.3085, 0.3998],\n",
      "        [0.2459, 0.4570, 0.2971],\n",
      "        [0.3022, 0.4505, 0.2473],\n",
      "        [0.4490, 0.3103, 0.2407],\n",
      "        [0.3322, 0.2822, 0.3856],\n",
      "        [0.2771, 0.3189, 0.4039],\n",
      "        [0.2563, 0.3351, 0.4087],\n",
      "        [0.2625, 0.4112, 0.3263],\n",
      "        [0.3599, 0.3788, 0.2614],\n",
      "        [0.2972, 0.3328, 0.3700],\n",
      "        [0.3345, 0.3108, 0.3547],\n",
      "        [0.2904, 0.3289, 0.3806],\n",
      "        [0.4146, 0.3103, 0.2751],\n",
      "        [0.2120, 0.2022, 0.5859],\n",
      "        [0.2800, 0.3486, 0.3714],\n",
      "        [0.2618, 0.5028, 0.2354],\n",
      "        [0.2147, 0.4925, 0.2928],\n",
      "        [0.2769, 0.1972, 0.5259],\n",
      "        [0.2282, 0.2353, 0.5364],\n",
      "        [0.2928, 0.3430, 0.3642],\n",
      "        [0.2482, 0.2480, 0.5038],\n",
      "        [0.2604, 0.2193, 0.5203],\n",
      "        [0.3089, 0.4787, 0.2124],\n",
      "        [0.1897, 0.4744, 0.3359],\n",
      "        [0.2397, 0.2104, 0.5499],\n",
      "        [0.1731, 0.4901, 0.3368],\n",
      "        [0.2319, 0.3431, 0.4251],\n",
      "        [0.1438, 0.3895, 0.4667],\n",
      "        [0.2620, 0.1591, 0.5789],\n",
      "        [0.2688, 0.1960, 0.5352],\n",
      "        [0.2289, 0.1404, 0.6307],\n",
      "        [0.1657, 0.2201, 0.6141],\n",
      "        [0.1391, 0.4901, 0.3708],\n",
      "        [0.2916, 0.2508, 0.4576],\n",
      "        [0.1750, 0.3549, 0.4701],\n",
      "        [0.2334, 0.5601, 0.2064],\n",
      "        [0.1568, 0.6115, 0.2317],\n",
      "        [0.3104, 0.5565, 0.1330],\n",
      "        [0.3541, 0.3858, 0.2601],\n",
      "        [0.3504, 0.4528, 0.1968],\n",
      "        [0.1755, 0.7183, 0.1062],\n",
      "        [0.1944, 0.6872, 0.1185],\n",
      "        [0.3436, 0.4209, 0.2356],\n",
      "        [0.2948, 0.5856, 0.1196],\n",
      "        [0.3361, 0.5219, 0.1421],\n",
      "        [0.2931, 0.5831, 0.1238],\n",
      "        [0.2260, 0.6241, 0.1499],\n",
      "        [0.3647, 0.5313, 0.1041],\n",
      "        [0.2128, 0.6716, 0.1156],\n",
      "        [0.2709, 0.5762, 0.1529],\n",
      "        [0.2295, 0.4532, 0.3173],\n",
      "        [0.3298, 0.3805, 0.2897],\n",
      "        [0.3645, 0.3659, 0.2697],\n",
      "        [0.2989, 0.4063, 0.2948],\n",
      "        [0.4594, 0.2643, 0.2763],\n",
      "        [0.4050, 0.2940, 0.3010],\n",
      "        [0.1933, 0.4004, 0.4062],\n",
      "        [0.3897, 0.1878, 0.4225],\n",
      "        [0.3740, 0.2539, 0.3721],\n",
      "        [0.3486, 0.2396, 0.4118],\n",
      "        [0.3687, 0.3485, 0.2827],\n",
      "        [0.3068, 0.3654, 0.3277],\n",
      "        [0.2532, 0.4112, 0.3356],\n",
      "        [0.2140, 0.5698, 0.2162],\n",
      "        [0.2058, 0.4903, 0.3039],\n",
      "        [0.2232, 0.5537, 0.2231],\n",
      "        [0.2802, 0.4314, 0.2884],\n",
      "        [0.2270, 0.4137, 0.3593],\n",
      "        [0.3699, 0.3347, 0.2954],\n",
      "        [0.2598, 0.5192, 0.2210],\n",
      "        [0.1928, 0.6211, 0.1861],\n",
      "        [0.3023, 0.4937, 0.2039],\n",
      "        [0.3263, 0.2688, 0.4050],\n",
      "        [0.2246, 0.4013, 0.3741],\n",
      "        [0.3159, 0.2007, 0.4834],\n",
      "        [0.2890, 0.4341, 0.2769],\n",
      "        [0.2621, 0.4929, 0.2450],\n",
      "        [0.2990, 0.5145, 0.1866],\n",
      "        [0.2377, 0.2687, 0.4935],\n",
      "        [0.2316, 0.3496, 0.4188],\n",
      "        [0.2373, 0.2036, 0.5591],\n",
      "        [0.3175, 0.2846, 0.3979],\n",
      "        [0.4053, 0.3130, 0.2818],\n",
      "        [0.1848, 0.3219, 0.4933],\n",
      "        [0.2361, 0.5044, 0.2594],\n",
      "        [0.2318, 0.3202, 0.4480],\n",
      "        [0.2329, 0.4034, 0.3638],\n",
      "        [0.2936, 0.3467, 0.3598],\n",
      "        [0.1906, 0.1404, 0.6689],\n",
      "        [0.3003, 0.2195, 0.4801],\n",
      "        [0.2091, 0.3734, 0.4175],\n",
      "        [0.2120, 0.5606, 0.2274],\n",
      "        [0.1773, 0.4339, 0.3888],\n",
      "        [0.2825, 0.2307, 0.4868],\n",
      "        [0.3149, 0.1564, 0.5287],\n",
      "        [0.1954, 0.6065, 0.1981],\n",
      "        [0.2180, 0.5040, 0.2780],\n",
      "        [0.3444, 0.4304, 0.2253],\n",
      "        [0.2514, 0.5901, 0.1585],\n",
      "        [0.2372, 0.5802, 0.1825],\n",
      "        [0.2230, 0.6425, 0.1345],\n",
      "        [0.3005, 0.5447, 0.1548],\n",
      "        [0.3784, 0.3900, 0.2316],\n",
      "        [0.2649, 0.4688, 0.2663],\n",
      "        [0.3536, 0.4595, 0.1870],\n",
      "        [0.2200, 0.6300, 0.1500],\n",
      "        [0.2626, 0.6255, 0.1119],\n",
      "        [0.2133, 0.5820, 0.2047],\n",
      "        [0.2970, 0.5612, 0.1418],\n",
      "        [0.2788, 0.2763, 0.4448],\n",
      "        [0.3317, 0.4315, 0.2369],\n",
      "        [0.3047, 0.4668, 0.2285],\n",
      "        [0.2772, 0.4185, 0.3043],\n",
      "        [0.3572, 0.3532, 0.2896],\n",
      "        [0.3229, 0.3461, 0.3310],\n",
      "        [0.3554, 0.3386, 0.3060],\n",
      "        [0.2100, 0.4803, 0.3096],\n",
      "        [0.2750, 0.3988, 0.3262],\n",
      "        [0.2953, 0.2873, 0.4173],\n",
      "        [0.2713, 0.4038, 0.3249],\n",
      "        [0.2853, 0.3556, 0.3591],\n",
      "        [0.3495, 0.3705, 0.2800],\n",
      "        [0.1761, 0.5212, 0.3027],\n",
      "        [0.2539, 0.4672, 0.2789],\n",
      "        [0.3359, 0.4209, 0.2432],\n",
      "        [0.2978, 0.4007, 0.3016],\n",
      "        [0.3354, 0.4482, 0.2163],\n",
      "        [0.2845, 0.2809, 0.4346],\n",
      "        [0.3646, 0.4338, 0.2015],\n",
      "        [0.3108, 0.2208, 0.4684],\n",
      "        [0.4531, 0.3365, 0.2104],\n",
      "        [0.1731, 0.6892, 0.1377],\n",
      "        [0.2798, 0.3044, 0.4157],\n",
      "        [0.1806, 0.2579, 0.5615],\n",
      "        [0.2064, 0.4668, 0.3267],\n",
      "        [0.2428, 0.3032, 0.4540],\n",
      "        [0.3341, 0.4247, 0.2412],\n",
      "        [0.3001, 0.2804, 0.4195],\n",
      "        [0.3353, 0.2980, 0.3667],\n",
      "        [0.1546, 0.2606, 0.5848],\n",
      "        [0.2344, 0.2995, 0.4661],\n",
      "        [0.2145, 0.1973, 0.5882],\n",
      "        [0.3618, 0.3343, 0.3039],\n",
      "        [0.3446, 0.3567, 0.2987],\n",
      "        [0.2031, 0.3430, 0.4540],\n",
      "        [0.2765, 0.3802, 0.3433],\n",
      "        [0.2001, 0.0769, 0.7230],\n",
      "        [0.2184, 0.3132, 0.4684],\n",
      "        [0.1162, 0.2391, 0.6447],\n",
      "        [0.2153, 0.2755, 0.5092],\n",
      "        [0.2422, 0.5777, 0.1801],\n",
      "        [0.4323, 0.3413, 0.2264],\n",
      "        [0.3548, 0.4843, 0.1609],\n",
      "        [0.2663, 0.4733, 0.2604],\n",
      "        [0.1323, 0.7357, 0.1320],\n",
      "        [0.2220, 0.5831, 0.1950],\n",
      "        [0.2262, 0.6440, 0.1298],\n",
      "        [0.2185, 0.6351, 0.1464],\n",
      "        [0.3578, 0.5352, 0.1070],\n",
      "        [0.3639, 0.5088, 0.1273],\n",
      "        [0.2610, 0.6040, 0.1350],\n",
      "        [0.5925, 0.2955, 0.1120],\n",
      "        [0.5193, 0.3087, 0.1720],\n",
      "        [0.2910, 0.6058, 0.1032],\n",
      "        [0.3469, 0.5057, 0.1474],\n",
      "        [0.2109, 0.6019, 0.1872],\n",
      "        [0.1873, 0.7405, 0.0721],\n",
      "        [0.3277, 0.5806, 0.0917],\n",
      "        [0.3973, 0.4726, 0.1301],\n",
      "        [0.2480, 0.3670, 0.3850]], grad_fn=<SoftmaxBackward0>)\n",
      "Loss:  1.163031816482544\n"
     ]
    },
    {
     "data": {
      "text/plain": [
       "0.17415730337078653"
      ]
     },
     "execution_count": 11,
     "metadata": {},
     "output_type": "execute_result"
    }
   ],
   "source": [
    "#define loss function and optimizer\n",
    "loss_func = nn.CrossEntropyLoss()\n",
    "optimizer = torch.optim.Adam(model1.parameters(),lr=1e-3)\n",
    "\n",
    "def calculate_accuracy_NN(model,xs,ys):\n",
    "    pred = model(torch.tensor(xs,dtype=torch.float))\n",
    "    pred= torch.argmax(pred,dim=1)\n",
    "    pred = pred.detach().numpy()    \n",
    "    return np.sum(ys==pred+1)/len(ys)\n",
    "\n",
    "#untrained model prediction and loss\n",
    "pred = model1(feats_tensor)\n",
    "loss = loss_func(pred,classes_tensor)\n",
    "print(\"Output: \",pred)\n",
    "print(\"Loss: \",loss.item())\n",
    "\n",
    "#accuracy of untrained model\n",
    "calculate_accuracy_NN(model1,feats,classes)\n",
    "\n",
    "    \n"
   ]
  },
  {
   "cell_type": "code",
   "execution_count": 12,
   "metadata": {},
   "outputs": [
    {
     "name": "stdout",
     "output_type": "stream",
     "text": [
      "Loss:  1.163031816482544\n",
      "Loss:  1.1609236001968384\n",
      "Loss:  1.1588826179504395\n",
      "Loss:  1.1568512916564941\n",
      "Loss:  1.1548089981079102\n",
      "Loss:  1.152746558189392\n",
      "Loss:  1.1506588459014893\n",
      "Loss:  1.1485426425933838\n",
      "Loss:  1.1463960409164429\n",
      "Loss:  1.1442179679870605\n",
      "Loss:  1.1420073509216309\n",
      "Loss:  1.1397639513015747\n",
      "Loss:  1.1374870538711548\n",
      "Loss:  1.1351767778396606\n",
      "Loss:  1.1328331232070923\n",
      "Loss:  1.1304558515548706\n",
      "Loss:  1.1280455589294434\n",
      "Loss:  1.1256020069122314\n",
      "Loss:  1.1231260299682617\n",
      "Loss:  1.1206175088882446\n",
      "Loss:  1.1180771589279175\n",
      "Loss:  1.1155052185058594\n",
      "Loss:  1.1129025220870972\n",
      "Loss:  1.11026930809021\n",
      "Loss:  1.107606053352356\n",
      "Loss:  1.104913592338562\n",
      "Loss:  1.1021925210952759\n",
      "Loss:  1.0994434356689453\n",
      "Loss:  1.096666932106018\n",
      "Loss:  1.0938639640808105\n",
      "Loss:  1.0910348892211914\n",
      "Loss:  1.088180661201477\n",
      "Loss:  1.0853019952774048\n",
      "Loss:  1.082399845123291\n",
      "Loss:  1.079474687576294\n",
      "Loss:  1.07652747631073\n",
      "Loss:  1.0735588073730469\n",
      "Loss:  1.0705698728561401\n",
      "Loss:  1.0675609111785889\n",
      "Loss:  1.064532995223999\n",
      "Loss:  1.0614874362945557\n",
      "Loss:  1.058424472808838\n",
      "Loss:  1.0553449392318726\n",
      "Loss:  1.0522499084472656\n",
      "Loss:  1.0491398572921753\n",
      "Loss:  1.0460162162780762\n",
      "Loss:  1.042879343032837\n",
      "Loss:  1.0397300720214844\n",
      "Loss:  1.0365697145462036\n",
      "Loss:  1.0333980321884155\n",
      "Loss:  1.0302170515060425\n",
      "Loss:  1.0270267724990845\n",
      "Loss:  1.0238282680511475\n",
      "Loss:  1.0206223726272583\n",
      "Loss:  1.0174098014831543\n",
      "Loss:  1.0141913890838623\n",
      "Loss:  1.01096773147583\n",
      "Loss:  1.0077400207519531\n",
      "Loss:  1.0045084953308105\n",
      "Loss:  1.0012742280960083\n",
      "Loss:  0.9980378150939941\n",
      "Loss:  0.9948002099990845\n",
      "Loss:  0.9915619492530823\n",
      "Loss:  0.9883235096931458\n",
      "Loss:  0.9850861430168152\n",
      "Loss:  0.9818503856658936\n",
      "Loss:  0.9786165356636047\n",
      "Loss:  0.9753856658935547\n",
      "Loss:  0.9721583724021912\n",
      "Loss:  0.9689352512359619\n",
      "Loss:  0.9657169580459595\n",
      "Loss:  0.9625039100646973\n",
      "Loss:  0.959297239780426\n",
      "Loss:  0.9560970067977905\n",
      "Loss:  0.9529043436050415\n",
      "Loss:  0.9497195482254028\n",
      "Loss:  0.9465431571006775\n",
      "Loss:  0.9433756470680237\n",
      "Loss:  0.9402178525924683\n",
      "Loss:  0.9370700120925903\n",
      "Loss:  0.9339330196380615\n",
      "Loss:  0.9308070540428162\n",
      "Loss:  0.9276928901672363\n",
      "Loss:  0.9245907068252563\n",
      "Loss:  0.9215013980865479\n",
      "Loss:  0.9184251427650452\n",
      "Loss:  0.9153624773025513\n",
      "Loss:  0.9123138189315796\n",
      "Loss:  0.9092795848846436\n",
      "Loss:  0.9062603116035461\n",
      "Loss:  0.903256356716156\n",
      "Loss:  0.9002678394317627\n",
      "Loss:  0.8972958326339722\n",
      "Loss:  0.8943399786949158\n",
      "Loss:  0.8914011120796204\n",
      "Loss:  0.8884792327880859\n",
      "Loss:  0.8855751156806946\n",
      "Loss:  0.8826890587806702\n",
      "Loss:  0.8798208236694336\n",
      "Loss:  0.8769713640213013\n"
     ]
    },
    {
     "data": {
      "text/plain": [
       "0.848314606741573"
      ]
     },
     "execution_count": 12,
     "metadata": {},
     "output_type": "execute_result"
    }
   ],
   "source": [
    "#train model using loss function and ADAM\n",
    "\n",
    "for i in range(100):\n",
    "    pred = model1(feats_tensor)\n",
    "    loss = loss_func(pred,classes_tensor)\n",
    "    optimizer.zero_grad\n",
    "    loss.backward()\n",
    "    optimizer.step()\n",
    "    print(\"Loss: \",loss.item())\n",
    "\n",
    "#trained model accuracy \n",
    "calculate_accuracy_NN(model1,feats,classes)\n",
    "\n"
   ]
  },
  {
   "cell_type": "markdown",
   "metadata": {},
   "source": [
    "### The untrained model consistently has a loss of around 1 and the accuracy varies a lot but seems to average around 33% (same as randomly assigning cultivar for each wine). Training the model shows a decrease in the error and the accuracy for the model is much higher, usually ranging fro 82-86%. Without softmax, the model seems to return three numbers usually ranging between -1 and 1 for every sample, which seems hard to compare to the actual cultivar for the wine. With softmax, the model returns again three numbers, but this time they are always positive and add up to 1 (and numbers higher than others before the softmax activation remain higher after the activation function). Each of these three numbers represents the probability that the particular sample belongs to each the three cultivars, and it is thus much easier to compare to the actual values and compute a loss value."
   ]
  },
  {
   "cell_type": "markdown",
   "metadata": {},
   "source": [
    "## Part b) Divide  your  data  into  3-fold  training  and  testing  groups,  within  each  fold  further  divide  your training data into 80% training and 20% validation, choose the model for the epoch with lowest validation error."
   ]
  },
  {
   "cell_type": "code",
   "execution_count": 13,
   "metadata": {},
   "outputs": [],
   "source": [
    "from sklearn.model_selection import train_test_split\n",
    "\n",
    "def train_and_val(model,train_X,train_y,epochs,draw_curve=True): ### I think we only need to use this for 3b\n",
    "    \"\"\"\n",
    "    Parameters\n",
    "    --------------\n",
    "    model: a PyTorch model\n",
    "    train_X: np.array shape(ndata,nfeatures)\n",
    "    train_y: np.array shape(ndata)\n",
    "    epochs: int\n",
    "    draw_curve: bool\n",
    "    \"\"\"\n",
    "    ### Define your loss function, optimizer. Convert data to torch tensor ###\n",
    "    loss_func = nn.CrossEntropyLoss()\n",
    "    optimizer = torch.optim.Adam(model.parameters(),lr=1e-3)\n",
    "    train_X = torch.tensor(feats,dtype=torch.float)\n",
    "    train_y = torch.tensor(classes-1,dtype=torch.long)\n",
    "    \n",
    "    \n",
    "    ### Split training examples further into training and validation ###\n",
    "    train_X,val_X,train_y,val_y= train_test_split(train_X,train_y,train_size=0.8)\n",
    "    val_array=[]\n",
    "    weights = model.state_dict()\n",
    "    lowest_val_loss = np.inf\n",
    "    \n",
    "    for i in range(epochs):\n",
    "        #Compute the loss and do backpropagation\n",
    "        pred = model(train_X)\n",
    "        loss = loss_func(pred,train_y)\n",
    "        optimizer.zero_grad\n",
    "        loss.backward()\n",
    "        optimizer.step()\n",
    "        #validation\n",
    "        with torch.no_grad(): #I'm guessing we don't want backprop for validation so that's why here\n",
    "            #Compute the validation loss\n",
    "            val_loss = loss_func(model(val_X),val_y)\n",
    "            \n",
    "        val_array.append(val_loss.item())\n",
    "        \n",
    "        if val_loss < lowest_val_loss:\n",
    "                lowest_val_loss = val_loss\n",
    "                weights = model.state_dict()\n",
    "                \n",
    "     # The final number of epochs is when the minimum error in validation set occurs    \n",
    "    final_epochs=np.argmin(val_array)+1\n",
    "    print(\"Number of epochs with lowest validation:\",final_epochs)\n",
    "    # Recover the model weight, and train with full training data (including validation data)\n",
    "    model.load_state_dict(weights)\n",
    "\n",
    "    if draw_curve:\n",
    "        plt.figure()\n",
    "        plt.plot(np.arange(len(val_array))+1,val_array,label='Validation loss')\n",
    "        plt.xlabel('Epochs')\n",
    "        plt.ylabel('Loss')\n",
    "        plt.legend()\n",
    "    return weights\n",
    "\n"
   ]
  },
  {
   "cell_type": "code",
   "execution_count": 14,
   "metadata": {},
   "outputs": [
    {
     "name": "stdout",
     "output_type": "stream",
     "text": [
      "Number of epochs with lowest validation: 100\n",
      "Number of epochs with lowest validation: 100\n",
      "Number of epochs with lowest validation: 100\n",
      "[0.7651075720787048, 0.6672074198722839, 0.6277082562446594]\n"
     ]
    },
    {
     "data": {
      "text/plain": [
       "0.9606741573033708"
      ]
     },
     "execution_count": 14,
     "metadata": {},
     "output_type": "execute_result"
    },
    {
     "data": {
      "image/png": "[encoded data removed]",
      "text/plain": [
       "<Figure size 432x288 with 1 Axes>"
      ]
     },
     "metadata": {
      "needs_background": "light"
     },
     "output_type": "display_data"
    },
    {
     "data": {
      "image/png": "[encoded data removed]",
      "text/plain": [
       "<Figure size 432x288 with 1 Axes>"
      ]
     },
     "metadata": {
      "needs_background": "light"
     },
     "output_type": "display_data"
    },
    {
     "data": {
      "image/png": "[encoded data removed]",
      "text/plain": [
       "<Figure size 432x288 with 1 Axes>"
      ]
     },
     "metadata": {
      "needs_background": "light"
     },
     "output_type": "display_data"
    }
   ],
   "source": [
    "#create new instance of PyTorch model for this question\n",
    "model2 = MLP()\n",
    "\n",
    "#3-fold cross validation\n",
    "kf = skl_model.KFold(n_splits=3,shuffle=True)\n",
    "\n",
    "test_array=[]\n",
    "lowest_test_loss = np.inf\n",
    "best_weights = model2.state_dict()\n",
    "\n",
    "#store weights of model with lowest test_error\n",
    "for train_index,test_index in kf.split(feats):\n",
    "    #print('Train: ',train_index, ' Test: ', test_index)\n",
    "    x_train,x_test = feats[train_index],feats[test_index]\n",
    "    y_train,y_test = classes[train_index],classes[test_index]\n",
    "    x_test = torch.tensor(x_test,dtype=torch.float)\n",
    "    y_test = torch.tensor(y_test-1,dtype=torch.long)\n",
    "    temp_weights = train_and_val(model2,x_train,y_train,100)\n",
    "    model2.load_state_dict(temp_weights)\n",
    "    with torch.no_grad():\n",
    "        test_loss = loss_func(model2(x_test),y_test)\n",
    "    test_array.append(test_loss.item())\n",
    "    if test_loss < lowest_test_loss:\n",
    "            lowest_test_loss = test_loss\n",
    "            best_weights = temp_weights\n",
    "\n",
    "#test such model\n",
    "print(test_array)\n",
    "model2.load_state_dict(best_weights)\n",
    "calculate_accuracy_NN(model2,feats,classes)"
   ]
  },
  {
   "cell_type": "markdown",
   "metadata": {},
   "source": [
    "### Three-fold cross validation yielded better results, with the best returned model obtaining average accuracies of 95%"
   ]
  }
 ],
 "metadata": {
  "anaconda-cloud": {},
  "kernelspec": {
   "display_name": "Python 3",
   "language": "python",
   "name": "python3"
  },
  "language_info": {
   "codemirror_mode": {
    "name": "ipython",
    "version": 3
   },
   "file_extension": ".py",
   "mimetype": "text/x-python",
   "name": "python",
   "nbconvert_exporter": "python",
   "pygments_lexer": "ipython3",
   "version": "3.8.12"
  }
 },
 "nbformat": 4,
 "nbformat_minor": 4
}
