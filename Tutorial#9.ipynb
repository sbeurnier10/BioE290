{
 "cells": [
  {
   "cell_type": "markdown",
   "metadata": {},
   "source": [
    "# Tutorial 9\n",
    "\n",
    "### Today's Topic:\n",
    "* Big picture of the ANI project\n",
    "* Understanding the data structure of ANI dataset\n",
    "* Implementing atomic environment vector (AEV) calculator in ANI models with numpy\n",
    "* ModuleDict\n",
    "* Q&A on HW8\n",
    "\n",
    "### References\n",
    "* ANI-1: an extensible neural network potential with DFT accuracy at force field computational cost<br> ([Article](https://pubs.rsc.org/en/content/articlepdf/2017/sc/c6sc05720a), [SI](http://www.rsc.org/suppdata/c6/sc/c6sc05720a/c6sc05720a1.pdf), [Dataset](https://doi.org/10.6084/m9.figshare.c.3846712.v1)),\n"
   ]
  },
  {
   "cell_type": "markdown",
   "metadata": {},
   "source": [
    "## Understanding data organization"
   ]
  },
  {
   "cell_type": "markdown",
   "metadata": {},
   "source": [
    "Adapted from example_data_sampler.py"
   ]
  },
  {
   "cell_type": "code",
   "execution_count": 5,
   "metadata": {},
   "outputs": [
    {
     "name": "stdout",
     "output_type": "stream",
     "text": [
      "Path:    /gdb11_s01/gdb11_s01-0\n",
      "  Smiles:       [H]C([H])([H])[H]\n",
      "  Symbols:      ['C', 'H', 'H', 'H', 'H']\n",
      "  Coordinates:  (5400, 5, 3)\n",
      "  Energies:     (5400,) \n",
      "\n",
      "Path:    /gdb11_s01/gdb11_s01-1\n",
      "  Smiles:       [H]N([H])[H]\n",
      "  Symbols:      ['N', 'H', 'H', 'H']\n",
      "  Coordinates:  (3600, 4, 3)\n",
      "  Energies:     (3600,) \n",
      "\n",
      "Path:    /gdb11_s01/gdb11_s01-2\n",
      "  Smiles:       [H]O[H]\n",
      "  Symbols:      ['O', 'H', 'H']\n",
      "  Coordinates:  (1800, 3, 3)\n",
      "  Energies:     (1800,) \n",
      "\n"
     ]
    }
   ],
   "source": [
    "import pyanitools as pya\n",
    "\n",
    "# Set the HDF5 file containing the data\n",
    "hdf5file = '../../final_project/ANI-1_release/ani_gdb_s01.h5'\n",
    "\n",
    "# Construct the data loader class\n",
    "adl = pya.anidataloader(hdf5file)\n",
    "\n",
    "# Print the species of the data set one by one\n",
    "for data in adl:\n",
    "#     print(data.keys())\n",
    "\n",
    "    # Extract the data\n",
    "    P = data['path']\n",
    "    X = data['coordinates']\n",
    "    E = data['energies']\n",
    "    S = data['species']\n",
    "    sm = data['smiles']\n",
    "\n",
    "    # Print the data\n",
    "    print(\"Path:   \", P)\n",
    "    print(\"  Smiles:      \",\"\".join(sm))\n",
    "    print(\"  Symbols:     \", S)\n",
    "    print(\"  Coordinates: \", X.shape)\n",
    "    print(\"  Energies:    \", E.shape, \"\\n\")\n",
    "\n",
    "# Closes the H5 data file\n",
    "adl.cleanup()"
   ]
  },
  {
   "cell_type": "markdown",
   "metadata": {},
   "source": [
    "### Use Iterator to get data"
   ]
  },
  {
   "cell_type": "code",
   "execution_count": 24,
   "metadata": {},
   "outputs": [
    {
     "name": "stderr",
     "output_type": "stream",
     "text": [
      "/Users/nancy/Desktop/academics/teaching 2022 Spring/chem195:295/Tutorials/Tutorial 9/pyanitools.py:47: H5pyDeprecationWarning: The default file mode will change to 'r' (read-only) in h5py 3.0. To suppress this warning, pass the mode you need to h5py.File(), or set the global default h5.get_config().default_file_mode, or set the environment variable H5PY_DEFAULT_READONLY=1. Available modes are: 'r', 'r+', 'w', 'w-'/'x', 'a'. See the docs for details.\n",
      "  self.store = h5py.File(store_file)\n"
     ]
    }
   ],
   "source": [
    "from pyanitools import anidataloader\n",
    "# data = anidataloader(\"../../ANI1_dataset/ANI-1_release/ani_gdb_s07.h5\")\n",
    "data = anidataloader(\"../../final_project/ANI-1_release/ani_gdb_s05.h5\")\n",
    "data_iter = data.__iter__()"
   ]
  },
  {
   "cell_type": "code",
   "execution_count": 25,
   "metadata": {},
   "outputs": [
    {
     "name": "stdout",
     "output_type": "stream",
     "text": [
      "Path:    /gdb11_s05/gdb11_s05-0\n",
      "  Smiles:       [H]N([H])C(C([H])([H])[H])(C([H])([H])[H])C([H])([H])[H]\n",
      "  Symbols:      ['C', 'C', 'C', 'C', 'N', 'H', 'H', 'H', 'H', 'H', 'H', 'H', 'H', 'H', 'H', 'H']\n",
      "  Coordinates:  (10080, 16, 3)\n",
      "  Energies:     (10080,) \n",
      "\n"
     ]
    },
    {
     "name": "stderr",
     "output_type": "stream",
     "text": [
      "/Users/nancy/Desktop/academics/teaching 2022 Spring/chem195:295/Tutorials/Tutorial 9/pyanitools.py:59: H5pyDeprecationWarning: dataset.value has been deprecated. Use dataset[()] instead.\n",
      "  dataset = np.array(item[k].value)\n"
     ]
    }
   ],
   "source": [
    "mols = next(data_iter)\n",
    "# Extract the data\n",
    "P = mols['path']\n",
    "X = mols['coordinates']\n",
    "E = mols['energies']\n",
    "S = mols['species']\n",
    "sm = mols['smiles']\n",
    "\n",
    "# Print the data\n",
    "print(\"Path:   \", P)\n",
    "print(\"  Smiles:      \",\"\".join(sm))\n",
    "print(\"  Symbols:     \", S)\n",
    "print(\"  Coordinates: \", X.shape)\n",
    "print(\"  Energies:    \", E.shape, \"\\n\")\n"
   ]
  },
  {
   "cell_type": "markdown",
   "metadata": {},
   "source": [
    "How many molecules and conformations are there?"
   ]
  },
  {
   "cell_type": "code",
   "execution_count": 15,
   "metadata": {},
   "outputs": [
    {
     "name": "stderr",
     "output_type": "stream",
     "text": [
      "/Users/nancy/Desktop/academics/teaching 2022 Spring/chem195:295/Tutorials/Tutorial 9/pyanitools.py:59: H5pyDeprecationWarning: dataset.value has been deprecated. Use dataset[()] instead.\n",
      "  dataset = np.array(item[k].value)\n"
     ]
    },
    {
     "name": "stdout",
     "output_type": "stream",
     "text": [
      "267\n",
      "1813151\n"
     ]
    }
   ],
   "source": [
    "data_iter = data.__iter__()\n",
    "count=0\n",
    "count_conf =0\n",
    "for mol in data_iter:\n",
    "    count+=1\n",
    "    count_conf += len(mol['energies'])\n",
    "print(count)\n",
    "print(count_conf)"
   ]
  },
  {
   "cell_type": "markdown",
   "metadata": {},
   "source": [
    "## AEV and implementation\n",
    "\n",
    "\n",
    "### Understanding symmetric functions\n",
    "Requirements for the representation of atomic environments:\n",
    "1. Translational invariance\n",
    "2. Rotational invariance\n",
    "3. Atomic permutation invariance\n",
    "![](molecule.jpg)\n",
    "\n",
    "#### Distance conversion function\n",
    "$$\n",
    "f_{\\mathrm{C}}\\left(R_{i j}\\right)=\\left\\{\\begin{array}{cl}0.5 \\times \\cos \\left(\\frac{\\pi R_{i j}}{R_{\\mathrm{C}}}\\right)+0.5 & \\text { for } R_{i j} \\leq R_{\\mathrm{C}} \\\\ 0.0 & \\text { for } R_{i j}>R_{\\mathrm{C}}\\end{array}\\right.\n",
    "$$\n",
    "Free parameter: $R_C$\n",
    "\n",
    "Literature values: \n",
    "* Radial cutoff   $R_C^{radial}=5.2Å$\n",
    "* Angular cutoff $R_C^{angular}=3.5Å$\n",
    "\n",
    "#### Radial environment components\n",
    "$$\n",
    "G_{m}^{\\mathrm{R}}=\\sum_{j \\neq i}^{\\text {all atoms }} \\mathrm{e}^{-\\eta\\left(R_{i j}-R_{s}\\right)^{2}} f_{\\mathrm{C}}\\left(R_{i j}\\right)\n",
    "$$\n",
    "Free parameters: $\\{\\eta, R_s\\}$\n",
    "\n",
    "Literature values:\n",
    "* $\\eta^{radial}=16$\n",
    "* $R_s^{radial}\\in\\{0.900000, 1.168750, 1.437500, 1.706250, 1.975000, 2.243750, 2.51250,\n",
    " 2.781250, 3.050000, 3.318750, 3.587500, 3.856250, 4.125000, 4.39375,\n",
    "4.662500, 4.931250\\}Å$\n",
    "\n",
    "#### Angular environment components\n",
    "$$\n",
    "G_{m}^{A_{\\text {mod }}}=2^{1-\\zeta} \\sum_{j, k \\neq i}^{\\text {all atoms }}\\left(1+\\cos \\left(\\theta_{i j k}-\\theta_{s}\\right)\\right)^{\\zeta} \\times \\exp \\left[-\\eta\\left(\\frac{R_{i j}+R_{i k}}{2}-R_{s}\\right)^{2}\\right] f_{\\mathrm{C}}\\left(R_{i j}\\right) f_{\\mathrm{C}}\\left(R_{i k}\\right)\n",
    "$$<br>\n",
    "Free parameters: $\\{\\zeta, \\theta_s, \\eta, R_s\\}$\n",
    "\n",
    "Literature values:\n",
    "* $\\zeta=32$\n",
    "* $\\theta_s \\in \\{0.19634954, 0.58904862,0. 9817477, 1.3744468, 1.7671459,\n",
    "2.1598449, 2.552544, 2.945243\\}$\n",
    "* $\\eta^{angular}=8$\n",
    "* $R_s^{angular}\\in\\{0.900000, 1.550000, 2.200000, 2.850000\\}Å$"
   ]
  },
  {
   "cell_type": "code",
   "execution_count": 22,
   "metadata": {
    "jupyter": {
     "source_hidden": true
    }
   },
   "outputs": [],
   "source": [
    "import numpy as np\n",
    "\n",
    "\n",
    "def calc_f_C(Rij, RC):\n",
    "    f_C_value = 0.5 * np.cos(np.pi * Rij / RC) + 0.5\n",
    "    indicator = ((Rij <= RC) & (Rij != 0)).astype(float) # Make f_C(0)=0 to make sure the sum in distance conversion function and radial conversion function can run with j=i\n",
    "    return f_C_value * indicator\n",
    "\n",
    "def radial_component(Rijs, eta, Rs, RC=5.2):\n",
    "    # Rijs is a 1d array, all other parameters are scalars\n",
    "    f_C_values = calc_f_C(Rijs, RC)\n",
    "    individual_components = np.exp(-eta * (Rijs - Rs) ** 2) * f_C_values\n",
    "    return np.sum(individual_components)\n",
    "\n",
    "def angular_component(Rij_vectors, Rik_vectors, zeta, theta_s, eta, Rs, RC=3.5):\n",
    "    # Rij_vectors and Rik_vectors are 2d arrays with shape (n_atoms, 3), all other parameters are scalars\n",
    "    # calculate theta_ijk values from vector operations\n",
    "    dot_products = Rij_vectors.dot(Rik_vectors.T)\n",
    "    Rij_norms = np.linalg.norm(Rij_vectors, axis=-1)\n",
    "    Rik_norms = np.linalg.norm(Rik_vectors, axis=-1)\n",
    "    norms = Rij_norms.reshape((-1, 1)).dot(Rik_norms.reshape((1, -1)))\n",
    "    cos_values = np.clip(dot_products / (norms + 1e-8), -1, 1)\n",
    "    theta_ijks = np.arccos(cos_values)\n",
    "    theta_ijk_filter = (theta_ijks != 0).astype(float)\n",
    "    mean_dists = (Rij_norms.reshape((-1, 1)) + Rik_norms.reshape((1, -1))) / 2\n",
    "    f_C_values_Rij = calc_f_C(Rij_norms, RC)\n",
    "    f_C_values_Rik = calc_f_C(Rik_norms, RC)\n",
    "    f_C_values = f_C_values_Rij.reshape((-1, 1)).dot(f_C_values_Rik.reshape((1, -1)))\n",
    "    individual_components = (1 + np.cos(theta_ijks - theta_s)) ** zeta * np.exp(-eta * (mean_dists - Rs) ** 2) * f_C_values * theta_ijk_filter\n",
    "    return 2 ** (1 - zeta) * np.sum(individual_components)\n",
    "\n",
    "def calc_aev(atom_types, coords, i_index):\n",
    "    # atom_types are np.array of ints\n",
    "    relative_coordinates = coords - coords[i_index]\n",
    "    nearby_atom_indicator = np.linalg.norm(relative_coordinates, axis=-1) < 5.3\n",
    "    relative_coordinates = relative_coordinates[nearby_atom_indicator]\n",
    "    atom_types = atom_types[nearby_atom_indicator]\n",
    "    radial_aev = np.array([radial_component(np.linalg.norm(relative_coordinates[atom_types == atom], axis=-1), eta, Rs) \\\n",
    "                           for atom in [0, 1, 2, 3] for eta in [16] \\\n",
    "                           for Rs in [0.900000,1.168750,1.437500,1.706250,1.975000,2.243750,2.51250,2.781250,3.050000,\\\n",
    "                                   3.318750,3.587500,3.856250,4.125000,4.39375,4.662500,4.931250]])\n",
    "    angular_aev = np.array([angular_component(relative_coordinates[atom_types == atom_j], relative_coordinates[atom_types == atom_k],\\\n",
    "                                             zeta, theta_s, eta, Rs) \\\n",
    "                            for atom_j in [0, 1, 2, 3] for atom_k in range(atom_j, 4) for zeta in [32] \\\n",
    "                            for theta_s in [0.19634954,0.58904862,0.9817477,1.3744468,1.7671459,2.1598449,2.552544,2.945243]\\\n",
    "                            for eta in [8] for Rs in [0.900000,1.550000,2.200000,2.850000]])\n",
    "    print(len(radial_aev), len(angular_aev))\n",
    "    return np.concatenate([radial_aev, angular_aev])\n",
    "\n",
    "        "
   ]
  },
  {
   "cell_type": "markdown",
   "metadata": {},
   "source": [
    "### Distance Conversion function"
   ]
  },
  {
   "cell_type": "code",
   "execution_count": 21,
   "metadata": {},
   "outputs": [
    {
     "data": {
      "text/plain": [
       "[<matplotlib.lines.Line2D at 0x7f8637730630>]"
      ]
     },
     "execution_count": 21,
     "metadata": {},
     "output_type": "execute_result"
    },
    {
     "data": {
      "image/png": "[encoded data removed]",
      "text/plain": [
       "<Figure size 432x288 with 1 Axes>"
      ]
     },
     "metadata": {
      "needs_background": "light"
     },
     "output_type": "display_data"
    }
   ],
   "source": [
    "import numpy as np\n",
    "import matplotlib.pyplot as plt\n",
    "r_ij = np.linspace(0,10,500)\n",
    "rc = 5.2\n",
    "plt.plot(r_ij,[calc_f_C(r,rc)for r in r_ij])"
   ]
  },
  {
   "cell_type": "markdown",
   "metadata": {},
   "source": [
    "### Visualizing AEVs"
   ]
  },
  {
   "cell_type": "code",
   "execution_count": 23,
   "metadata": {},
   "outputs": [],
   "source": [
    "mapping={\"H\":0, \"C\":1, \"N\":2, \"O\":3}"
   ]
  },
  {
   "cell_type": "code",
   "execution_count": 26,
   "metadata": {},
   "outputs": [
    {
     "data": {
      "text/plain": [
       "array([1, 1, 1, 1, 2, 0, 0, 0, 0, 0, 0, 0, 0, 0, 0, 0])"
      ]
     },
     "execution_count": 26,
     "metadata": {},
     "output_type": "execute_result"
    }
   ],
   "source": [
    "elements= np.array([mapping[atom] for atom in S])\n",
    "elements"
   ]
  },
  {
   "cell_type": "code",
   "execution_count": 27,
   "metadata": {},
   "outputs": [],
   "source": [
    "import matplotlib.pyplot as plt\n",
    "%matplotlib inline"
   ]
  },
  {
   "cell_type": "markdown",
   "metadata": {},
   "source": [
    "Let's plot the AEV for the same atom in different conformation"
   ]
  },
  {
   "cell_type": "code",
   "execution_count": 28,
   "metadata": {},
   "outputs": [
    {
     "name": "stdout",
     "output_type": "stream",
     "text": [
      "64 320\n",
      "64 320\n"
     ]
    },
    {
     "data": {
      "text/plain": [
       "<matplotlib.legend.Legend at 0x7f8634eb15c0>"
      ]
     },
     "execution_count": 28,
     "metadata": {},
     "output_type": "execute_result"
    },
    {
     "data": {
      "image/png": "[encoded data removed]",
      "text/plain": [
       "<Figure size 432x288 with 1 Axes>"
      ]
     },
     "metadata": {
      "needs_background": "light"
     },
     "output_type": "display_data"
    }
   ],
   "source": [
    "plt.plot(calc_aev(elements,X[1],2), label=\"conf1\", alpha=0.6)\n",
    "plt.plot(calc_aev(elements,X[2],2), label=\"conf2\", alpha=0.6)\n",
    "plt.legend()"
   ]
  },
  {
   "cell_type": "markdown",
   "metadata": {},
   "source": [
    "## Network as a sum of sub-networks using ModuleDict"
   ]
  },
  {
   "cell_type": "code",
   "execution_count": null,
   "metadata": {},
   "outputs": [],
   "source": [
    "class ANI(nn.Module):\n",
    "    def __init__(self):\n",
    "        super().__init__()\n",
    "        self.sub_nets = nn.ModuleDict({\"C\": ANI_sub([architecture]), \"H\": ANI_sub([architecture],...)})\n",
    "\n",
    "    def forward(self, aevs, atom_types):\n",
    "        atomic_energies = ...\n",
    "        \n",
    "        total_energies = torch.sum(atomic_energies,dim=...)\n",
    "        return total_eneirgies\n",
    "\n",
    "class ANI_sub(nn.Module):\n",
    "    def __init__(self, architecture):\n",
    "        super().__init__()\n",
    "        ...\n",
    "\n",
    "    def forward(self, aev):\n",
    "        atomic_energy = ...\n",
    "        return atomic_energy\n"
   ]
  },
  {
   "cell_type": "markdown",
   "metadata": {},
   "source": [
    "## General suggestions for final project\n",
    "* Test the workflow on small amount of data first\n",
    "* Tuning hyperparameters and finalizing architecture with a little more data.\n",
    "* Final production run on full data ( to be defined based on resource to be provided)\n",
    "* Save intermediate result! (https://pytorch.org/tutorials/beginner/saving_loading_models.html)\n"
   ]
  },
  {
   "cell_type": "code",
   "execution_count": null,
   "metadata": {},
   "outputs": [],
   "source": []
  }
 ],
 "metadata": {
  "kernelspec": {
   "display_name": "Python 3",
   "language": "python",
   "name": "python3"
  },
  "language_info": {
   "codemirror_mode": {
    "name": "ipython",
    "version": 3
   },
   "file_extension": ".py",
   "mimetype": "text/x-python",
   "name": "python",
   "nbconvert_exporter": "python",
   "pygments_lexer": "ipython3",
   "version": "3.7.3"
  }
 },
 "nbformat": 4,
 "nbformat_minor": 4
}
