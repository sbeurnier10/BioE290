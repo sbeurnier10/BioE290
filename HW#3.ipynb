{
 "cells": [
  {
   "cell_type": "markdown",
   "metadata": {},
   "source": [
    "### 1. Genetic Algorithms. (11pt) Use GA to determine the maximum of the solution  𝑓(𝑥)=−𝑥2 +8𝑥+15 over the discrete range of 𝑥-values: [0,15], where 𝑓(𝑥) is the fitness function. Consider the following two possible encodings. "
   ]
  },
  {
   "cell_type": "markdown",
   "metadata": {},
   "source": [
    "##### (a)  (3pt)  List  all  good  solutions  as  those  with  𝑓(𝑥)>27,  and  write  out  individual  solutions  for  each encodings. Define schema by looking for perfect conservation along each column; if perfect conservation holds, give that value for that position, else represent that column with a *. What is length and order of the two schema? Which encoding will you choose?"
   ]
  },
  {
   "cell_type": "markdown",
   "metadata": {},
   "source": [
    "For Encoding A:  \n",
    "Solution 3 (Fitness: 30, Vector: 1000)  \n",
    "Solution 4 (Fitness: 31, Vector: 0010)  \n",
    "Solution 5 (Fitness: 30, Vector: 0001)  \n",
    "\n",
    "For Enccoding B:  \n",
    "Solution 3 (Fitness: 30, Vector: 1101)  \n",
    "Solution 4 (Fitness: 31, Vector: 1011)  \n",
    "Solution 5 (Fitness: 30, Vector: 1111)  \n",
    "  \n",
    "Schema for Encoding A:  \n",
    "\\*0\\**  \n",
    "Length: 2 - 2 = 0  \n",
    "Order: 1  \n",
    "\n",
    "Schmma for Encoding b:  \n",
    "1**1  \n",
    "Length: 4 - 1 = 3  \n",
    "Order: 2  \n",
    "\n",
    "I will choose Encoding A because the schema encoding the fit solutions has low length and low order, meaning these solutions will likely advance to the next generation of solutions and eventually dominate the population, which is good."
   ]
  },
  {
   "cell_type": "markdown",
   "metadata": {},
   "source": [
    "##### (b) (2pt) Assume we draw candidate solutions 𝑥 =10, 𝑥 =1, 𝑥 =15, 𝑥 =6, 𝑥 =0, 𝑥 =9 as our initial population for GA optimization. Using your chosen encoding, list encoded solutions and their fitness. Pair the population so that the fittest members are paired with the least fit."
   ]
  },
  {
   "cell_type": "markdown",
   "metadata": {},
   "source": [
    "Unpaired Solutions for Encoding A:  \n",
    "Solution 10 (Fitness: -5, Vector: 0101)  \n",
    "Solution 1 (Fitness: 22, Vector: 0011)  \n",
    "Solution 15 (Fitness: -90, Vector: 1111)  \n",
    "Solution 6 (Fitness: 27, Vector: 0000)  \n",
    "Solution 0 (Fitness: 15, Vector: 1011)  \n",
    "Solution 9 (Fitness: 6, Vector: 1100)  \n",
    "\n",
    "Paired Solutions:  \n",
    "(Solution 6, Solution 15), (Solution 1, Solution 10), (Solution 0, Solution 9)\n"
   ]
  },
  {
   "cell_type": "markdown",
   "metadata": {},
   "source": [
    "##### c)  (1pt)  Use  the  cross-over  operator  by  defining  the  cross-over  point  between  the  1st  and  2nd  element. Exchange the last three elements between the pairs of strings. Do we have new solutions, and if so, what is their fitness? Have we increased fitness of population as a whole? What is the best solution? "
   ]
  },
  {
   "cell_type": "markdown",
   "metadata": {},
   "source": [
    "Cross-over for (Solution 6, Solution 15):  \n",
    "0000  \n",
    "1111  \n",
    "Becomes:  \n",
    "1000 (new Solution 3, Fitness: 30)  \n",
    "0111 (new Solution 12, Fitnes: -33)  \n",
    "\n",
    "Cross-over for (Solution 1, Solution 10):  \n",
    "0011  \n",
    "0101  \n",
    "Becomes:  \n",
    "0011   \n",
    "0101 \n",
    "No new Solutions  \n",
    "\n",
    "Cross-over for (Solution 0,  Solution 9):  \n",
    "1011  \n",
    "1100  \n",
    "Becomes:  \n",
    "1011  \n",
    "1100  \n",
    "No New Solutions\n",
    "\n",
    "Overall fitness of old population:  \n",
    "27 + 22 + 15 + 6 -5 -90 = -25  \n",
    "Overall fitness of new population:  \n",
    "30 -33 + 22 - 5 + 15 + 6 = 35 \n",
    "\n",
    "New solutions are 3 (fitness: 30), 12 (Fitness: -33)\n",
    "New population is more fit, with best solution 3"
   ]
  },
  {
   "cell_type": "markdown",
   "metadata": {},
   "source": [
    "##### (d) (1pt) Using population generated in (c), mutate 3rd element. Do we have new solutions, and if so, what are their fitness? Does mutation increase fitness of population as a whole? Did we find a better solution? "
   ]
  },
  {
   "cell_type": "markdown",
   "metadata": {},
   "source": [
    "Solution 3: 1000 -> 1010 (new Solution 7, Fitness: 22)  \n",
    "Solution 12: 0111 -> 0101 (Solution 10, Fitness: -5)  \n",
    "Solution 1: 0011 -> 0001 (new Solution 5, Fitness: 30)  \n",
    "Solution 10: 0101 -> 0111 (solution 12, Fitness: -33)  \n",
    "Solution 0: 1011 -> 1001 (new Solution 2, Fitness: 27)  \n",
    "Solution 9: 1100 -> 1110 (new Solution 14, Fitness: -69)  \n",
    "\n",
    "New Solutions 7 (Fitness: 22), 5 (Fitness: 30), 2 (Fitness: 27) and 14 (Fitness: -69)  \n",
    "Fitness of new population: 22 - 5 + 30 - 33 + 27 - 69 = -28  \n",
    "Fitness has decreased as a whole. We didn't a find a better solution in this new population (new solution 5 has same fitness as old solution 3)\n",
    "\n"
   ]
  },
  {
   "cell_type": "markdown",
   "metadata": {},
   "source": [
    "##### (e)  (1pt)  Using  population  generated  in  (d),  eliminate  least  fit  member,  and  replace  with  cloned  best member. Do 2-point cross-over by exchanging inner two elements between pairs. Do we have new solutions and  what  are  their  fitness?  Have  we  increased  fitness  of  population  as  a  whole?  Did  we  find  a  better solution? "
   ]
  },
  {
   "cell_type": "markdown",
   "metadata": {},
   "source": [
    "replace Solution 14 with solution 5  \n",
    "\n",
    "Pairs of most fit with least fit:  \n",
    "(Solution 5, Solution 12), (Solution 5, Solution 10) (Solution 2, solution 7)\n",
    "\n",
    "Cross-over for (Solution 5, Solution 12):  \n",
    "0001  \n",
    "0111  \n",
    "Becomes:  \n",
    "0111  \n",
    "0001  \n",
    "No new solutions  \n",
    "\n",
    "Cross-over for (Solution 5, Solution 10):  \n",
    "0001  \n",
    "0101  \n",
    "Becomes:  \n",
    "0101  \n",
    "0001  \n",
    "No new solutions  \n",
    "\n",
    "Cross-over for (Soluton 2, solution 7):  \n",
    "1001  \n",
    "1010  \n",
    "Becomes:  \n",
    "1011 (Solution 0, Fitness: 15)  \n",
    "1000 (Solution 3, Fitness: 30)\n",
    "\n",
    "Solutions 3 and 0 were both present in older pools but they are new in this pool compared to the one right before.  \n",
    "Overall fitness: 15 + 30 + 30 -5 + 30 - 33 = 67  \n",
    "The fitness of the population has increased as a whole (mostly by replacing least fit member with most fit in previous pool).  \n",
    "New solution 3 has equal fitness to solution to solution 5, so no new better solutions were found.\n"
   ]
  },
  {
   "cell_type": "markdown",
   "metadata": {},
   "source": [
    "##### (f) (1pt) Using population generated in (e), eliminate least fit member, and replace with cloned best member. Do cross-over between 3rd and 4th elements and exchange first three elements between pairs. Do we have new solutions, and what are their fitness? Have we increased the fitness of population as a whole? Did we find a better solution? "
   ]
  },
  {
   "cell_type": "markdown",
   "metadata": {},
   "source": [
    "Replace solution 12 with solution 3  \n",
    "Pairs of most fit with least fit:  \n",
    "(Solution 3,Solution 10), (Solution 3, Solution 0), (Solution 5, Solution 5)  \n",
    "\n",
    "Cross-over for (Solution 3,Solution 10):  \n",
    "1000  \n",
    "0101  \n",
    "Becomes:  \n",
    "1001 (new solution 2, Fitness: 27)  \n",
    "0100 (new solution 8, Fitness: 15)  \n",
    "\n",
    "Cross-over for (Solution 3, Solution 0):  \n",
    "1000  \n",
    "1011  \n",
    "Becomes:  \n",
    "1001 (solution 2, Fitness: 27)    \n",
    "1010 (new solution 7, Fitness: 22)  \n",
    "\n",
    "Cross-over for (Solution 5, Solution 5):  \n",
    "0001   \n",
    "0001  \n",
    "Becomes:  \n",
    "0001  \n",
    "0001  \n",
    "No new solutions  \n",
    "\n",
    "New solutions in this pool of 2 (Fitness 27), 8 (Fitness 15) and 7 (Fitness 22) compared to the previous one.  \n",
    "Overall fitness: 27 + 15 + 27 + 22 + 30 + 30 = 151  \n",
    "the overall fitness of the population has increased, however no new better solutions were found.\n"
   ]
  },
  {
   "cell_type": "markdown",
   "metadata": {},
   "source": [
    "##### (g) (2pt) Do you think that the encoding of the solution space was adequate? Why?"
   ]
  },
  {
   "cell_type": "markdown",
   "metadata": {},
   "source": [
    "I think encoding A of the solution space is quite adequate as, after a relatively small number of generations, the overall fitness of each new pool has on average increased pretty significantly, and the fittest solutions have been explored. However, I think it could be further improved because, looking at the last exercise, two of the fittest solutions (both 3) were replaced with less fit solutions. We have also yet to see solution 4, which is the fittest solution over the range of values in the problem."
   ]
  },
  {
   "cell_type": "markdown",
   "metadata": {},
   "source": [
    "### 2.  Artificial  Neural  Networks.  (9pt)  In  lecture  we  saw  that  ANN  can  be  used  for  secondary  structure prediction of alpha-helix, beta-sheet, or random coil given the amino acid sequence as input. "
   ]
  },
  {
   "cell_type": "markdown",
   "metadata": {},
   "source": [
    "##### (a) (1pt) Initialize the weights to random values between 0 and 1.0"
   ]
  },
  {
   "cell_type": "code",
   "execution_count": 6,
   "metadata": {},
   "outputs": [
    {
     "data": {
      "text/plain": [
       "[0.3027157558515571,\n",
       " 0.49060602990515656,\n",
       " 0.9631045213106796,\n",
       " 0.31803186234534264,\n",
       " 0.008323974886739305,\n",
       " 0.06098106514955026,\n",
       " 0.6644328324900892,\n",
       " 0.9201948356525619]"
      ]
     },
     "execution_count": 6,
     "metadata": {},
     "output_type": "execute_result"
    }
   ],
   "source": [
    "from random import random\n",
    "weights = []\n",
    "for i in range(8):\n",
    "    weights.append(random())\n",
    "weights"
   ]
  },
  {
   "cell_type": "markdown",
   "metadata": {},
   "source": [
    "w11 = 0.30, w12 = 0.49, w13 = 0.96, w14 = 0.32, w21 = 0.01, w22 = 0.06, w23 = 0.66, w24 = 0.92"
   ]
  },
  {
   "cell_type": "markdown",
   "metadata": {},
   "source": [
    "##### (b) (3pt) Given the following input values for one pattern: i-1=(-1,1)  i=(-1,-1)  i+4=(1,-1) Feedforward through the above network and give the calculated output for this pattern and corresponding secondary structure definition (assume a hyperbolic tangent activation function, and its derivative is given as:  𝑑tanh𝑥/𝑑𝑥 =1−tanh2 𝑥 ).  "
   ]
  },
  {
   "cell_type": "markdown",
   "metadata": {},
   "source": [
    "At node theta1,1:  \n",
    "y = tanh(-1\\*w11 -1\\*w12) \n",
    "y = tanh(-0.79)  \n",
    "y = -0.66\n",
    "\n",
    "At node theta1,2:  \n",
    "y = tanh(-1\\*w13 -1\\*w14)\n",
    "y = tanh(-1.28) \n",
    "y = -0.86\n",
    "\n",
    "At node theta2,1:  \n",
    "y = tanh(theta11\\*w21 + theta12\\*w23)  \n",
    "y = tanh(-0.66\\*0.01 -0.86\\*0.66)  \n",
    "y = -0.52  \n",
    "\n",
    "At node theta2,1:  \n",
    "y = tanh(theta11\\*w22 + theta12\\*w24)\n",
    "y = tanh(-0.66\\*0.06 -0.86\\*0.92)\n",
    "y = -0.68\n",
    "\n",
    "Output is (-0.52,-0.68), which corresponds to a coil since this is closest is (-1,-1) class for coil.\n",
    "\n",
    "\n",
    "\n",
    "\n",
    " \n"
   ]
  },
  {
   "cell_type": "markdown",
   "metadata": {},
   "source": [
    "##### (c) (2pt) The actual observed output for this one pattern is (-1,-1). Define the error and calculate it for all nodes that are not in the input layer. "
   ]
  },
  {
   "cell_type": "markdown",
   "metadata": {},
   "source": []
  },
  {
   "cell_type": "markdown",
   "metadata": {},
   "source": [
    "##### (d) (3pt) Using back-propagation, give a formula for the weight update of all of the wij’s, and then calculate weight adjustments with a learning parameter. "
   ]
  },
  {
   "cell_type": "markdown",
   "metadata": {},
   "source": []
  }
 ],
 "metadata": {
  "interpreter": {
   "hash": "ce3f12723498ce5f2c5e43cdd22b26c6d88cad9bfee0a22dc877ced3e9b314e1"
  },
  "kernelspec": {
   "display_name": "Python 3.8.12 ('base')",
   "language": "python",
   "name": "python3"
  },
  "language_info": {
   "codemirror_mode": {
    "name": "ipython",
    "version": 3
   },
   "file_extension": ".py",
   "mimetype": "text/x-python",
   "name": "python",
   "nbconvert_exporter": "python",
   "pygments_lexer": "ipython3",
   "version": "3.8.12"
  },
  "orig_nbformat": 4
 },
 "nbformat": 4,
 "nbformat_minor": 2
}
